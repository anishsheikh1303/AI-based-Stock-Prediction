{
  "nbformat": 4,
  "nbformat_minor": 0,
  "metadata": {
    "colab": {
      "provenance": [],
      "collapsed_sections": [],
      "authorship_tag": "ABX9TyNMLHDRLnJoK5xaw91Llpqi",
      "include_colab_link": true
    },
    "kernelspec": {
      "name": "python3",
      "display_name": "Python 3"
    },
    "language_info": {
      "name": "python"
    }
  },
  "cells": [
    {
      "cell_type": "markdown",
      "metadata": {
        "id": "view-in-github",
        "colab_type": "text"
      },
      "source": [
        "<a href=\"https://colab.research.google.com/github/anishsheikh1303/AI-based-Stock-Prediction/blob/main/Microsoft_AI_Stock_Prediction.ipynb\" target=\"_parent\"><img src=\"https://colab.research.google.com/assets/colab-badge.svg\" alt=\"Open In Colab\"/></a>"
      ]
    },
    {
      "cell_type": "code",
      "source": [
        "# dataset @ https://finance.yahoo.com/quote/MSFT/history/"
      ],
      "metadata": {
        "id": "y0jUL9vdE5Sr"
      },
      "execution_count": 1,
      "outputs": []
    },
    {
      "cell_type": "code",
      "source": [
        "import pandas as pd\n",
        "df = pd.read_csv('MSFT.csv')\n",
        "df"
      ],
      "metadata": {
        "id": "xinDECNCZTj1",
        "colab": {
          "base_uri": "https://localhost:8080/",
          "height": 424
        },
        "outputId": "c42dc68e-aaf4-4553-ce45-2973778bec26"
      },
      "execution_count": 2,
      "outputs": [
        {
          "output_type": "execute_result",
          "data": {
            "text/plain": [
              "            Date        Open        High         Low       Close   Adj Close  \\\n",
              "0     1986-03-13    0.088542    0.101563    0.088542    0.097222    0.060980   \n",
              "1     1986-03-14    0.097222    0.102431    0.097222    0.100694    0.063158   \n",
              "2     1986-03-17    0.100694    0.103299    0.100694    0.102431    0.064247   \n",
              "3     1986-03-18    0.102431    0.103299    0.098958    0.099826    0.062613   \n",
              "4     1986-03-19    0.099826    0.100694    0.097222    0.098090    0.061524   \n",
              "...          ...         ...         ...         ...         ...         ...   \n",
              "9204  2022-09-19  242.470001  245.139999  240.850006  244.520004  244.520004   \n",
              "9205  2022-09-20  242.070007  243.509995  239.639999  242.449997  242.449997   \n",
              "9206  2022-09-21  244.270004  247.660004  238.899994  238.949997  238.949997   \n",
              "9207  2022-09-22  237.869995  243.860001  237.570007  240.979996  240.979996   \n",
              "9208  2022-09-23  239.539993  241.130005  235.199997  237.919998  237.919998   \n",
              "\n",
              "          Volume  \n",
              "0     1031788800  \n",
              "1      308160000  \n",
              "2      133171200  \n",
              "3       67766400  \n",
              "4       47894400  \n",
              "...          ...  \n",
              "9204    26826900  \n",
              "9205    26660300  \n",
              "9206    28625600  \n",
              "9207    31061200  \n",
              "9208    34137200  \n",
              "\n",
              "[9209 rows x 7 columns]"
            ],
            "text/html": [
              "\n",
              "  <div id=\"df-d482d8cc-b795-4d54-8dd5-8560e52ec507\">\n",
              "    <div class=\"colab-df-container\">\n",
              "      <div>\n",
              "<style scoped>\n",
              "    .dataframe tbody tr th:only-of-type {\n",
              "        vertical-align: middle;\n",
              "    }\n",
              "\n",
              "    .dataframe tbody tr th {\n",
              "        vertical-align: top;\n",
              "    }\n",
              "\n",
              "    .dataframe thead th {\n",
              "        text-align: right;\n",
              "    }\n",
              "</style>\n",
              "<table border=\"1\" class=\"dataframe\">\n",
              "  <thead>\n",
              "    <tr style=\"text-align: right;\">\n",
              "      <th></th>\n",
              "      <th>Date</th>\n",
              "      <th>Open</th>\n",
              "      <th>High</th>\n",
              "      <th>Low</th>\n",
              "      <th>Close</th>\n",
              "      <th>Adj Close</th>\n",
              "      <th>Volume</th>\n",
              "    </tr>\n",
              "  </thead>\n",
              "  <tbody>\n",
              "    <tr>\n",
              "      <th>0</th>\n",
              "      <td>1986-03-13</td>\n",
              "      <td>0.088542</td>\n",
              "      <td>0.101563</td>\n",
              "      <td>0.088542</td>\n",
              "      <td>0.097222</td>\n",
              "      <td>0.060980</td>\n",
              "      <td>1031788800</td>\n",
              "    </tr>\n",
              "    <tr>\n",
              "      <th>1</th>\n",
              "      <td>1986-03-14</td>\n",
              "      <td>0.097222</td>\n",
              "      <td>0.102431</td>\n",
              "      <td>0.097222</td>\n",
              "      <td>0.100694</td>\n",
              "      <td>0.063158</td>\n",
              "      <td>308160000</td>\n",
              "    </tr>\n",
              "    <tr>\n",
              "      <th>2</th>\n",
              "      <td>1986-03-17</td>\n",
              "      <td>0.100694</td>\n",
              "      <td>0.103299</td>\n",
              "      <td>0.100694</td>\n",
              "      <td>0.102431</td>\n",
              "      <td>0.064247</td>\n",
              "      <td>133171200</td>\n",
              "    </tr>\n",
              "    <tr>\n",
              "      <th>3</th>\n",
              "      <td>1986-03-18</td>\n",
              "      <td>0.102431</td>\n",
              "      <td>0.103299</td>\n",
              "      <td>0.098958</td>\n",
              "      <td>0.099826</td>\n",
              "      <td>0.062613</td>\n",
              "      <td>67766400</td>\n",
              "    </tr>\n",
              "    <tr>\n",
              "      <th>4</th>\n",
              "      <td>1986-03-19</td>\n",
              "      <td>0.099826</td>\n",
              "      <td>0.100694</td>\n",
              "      <td>0.097222</td>\n",
              "      <td>0.098090</td>\n",
              "      <td>0.061524</td>\n",
              "      <td>47894400</td>\n",
              "    </tr>\n",
              "    <tr>\n",
              "      <th>...</th>\n",
              "      <td>...</td>\n",
              "      <td>...</td>\n",
              "      <td>...</td>\n",
              "      <td>...</td>\n",
              "      <td>...</td>\n",
              "      <td>...</td>\n",
              "      <td>...</td>\n",
              "    </tr>\n",
              "    <tr>\n",
              "      <th>9204</th>\n",
              "      <td>2022-09-19</td>\n",
              "      <td>242.470001</td>\n",
              "      <td>245.139999</td>\n",
              "      <td>240.850006</td>\n",
              "      <td>244.520004</td>\n",
              "      <td>244.520004</td>\n",
              "      <td>26826900</td>\n",
              "    </tr>\n",
              "    <tr>\n",
              "      <th>9205</th>\n",
              "      <td>2022-09-20</td>\n",
              "      <td>242.070007</td>\n",
              "      <td>243.509995</td>\n",
              "      <td>239.639999</td>\n",
              "      <td>242.449997</td>\n",
              "      <td>242.449997</td>\n",
              "      <td>26660300</td>\n",
              "    </tr>\n",
              "    <tr>\n",
              "      <th>9206</th>\n",
              "      <td>2022-09-21</td>\n",
              "      <td>244.270004</td>\n",
              "      <td>247.660004</td>\n",
              "      <td>238.899994</td>\n",
              "      <td>238.949997</td>\n",
              "      <td>238.949997</td>\n",
              "      <td>28625600</td>\n",
              "    </tr>\n",
              "    <tr>\n",
              "      <th>9207</th>\n",
              "      <td>2022-09-22</td>\n",
              "      <td>237.869995</td>\n",
              "      <td>243.860001</td>\n",
              "      <td>237.570007</td>\n",
              "      <td>240.979996</td>\n",
              "      <td>240.979996</td>\n",
              "      <td>31061200</td>\n",
              "    </tr>\n",
              "    <tr>\n",
              "      <th>9208</th>\n",
              "      <td>2022-09-23</td>\n",
              "      <td>239.539993</td>\n",
              "      <td>241.130005</td>\n",
              "      <td>235.199997</td>\n",
              "      <td>237.919998</td>\n",
              "      <td>237.919998</td>\n",
              "      <td>34137200</td>\n",
              "    </tr>\n",
              "  </tbody>\n",
              "</table>\n",
              "<p>9209 rows × 7 columns</p>\n",
              "</div>\n",
              "      <button class=\"colab-df-convert\" onclick=\"convertToInteractive('df-d482d8cc-b795-4d54-8dd5-8560e52ec507')\"\n",
              "              title=\"Convert this dataframe to an interactive table.\"\n",
              "              style=\"display:none;\">\n",
              "        \n",
              "  <svg xmlns=\"http://www.w3.org/2000/svg\" height=\"24px\"viewBox=\"0 0 24 24\"\n",
              "       width=\"24px\">\n",
              "    <path d=\"M0 0h24v24H0V0z\" fill=\"none\"/>\n",
              "    <path d=\"M18.56 5.44l.94 2.06.94-2.06 2.06-.94-2.06-.94-.94-2.06-.94 2.06-2.06.94zm-11 1L8.5 8.5l.94-2.06 2.06-.94-2.06-.94L8.5 2.5l-.94 2.06-2.06.94zm10 10l.94 2.06.94-2.06 2.06-.94-2.06-.94-.94-2.06-.94 2.06-2.06.94z\"/><path d=\"M17.41 7.96l-1.37-1.37c-.4-.4-.92-.59-1.43-.59-.52 0-1.04.2-1.43.59L10.3 9.45l-7.72 7.72c-.78.78-.78 2.05 0 2.83L4 21.41c.39.39.9.59 1.41.59.51 0 1.02-.2 1.41-.59l7.78-7.78 2.81-2.81c.8-.78.8-2.07 0-2.86zM5.41 20L4 18.59l7.72-7.72 1.47 1.35L5.41 20z\"/>\n",
              "  </svg>\n",
              "      </button>\n",
              "      \n",
              "  <style>\n",
              "    .colab-df-container {\n",
              "      display:flex;\n",
              "      flex-wrap:wrap;\n",
              "      gap: 12px;\n",
              "    }\n",
              "\n",
              "    .colab-df-convert {\n",
              "      background-color: #E8F0FE;\n",
              "      border: none;\n",
              "      border-radius: 50%;\n",
              "      cursor: pointer;\n",
              "      display: none;\n",
              "      fill: #1967D2;\n",
              "      height: 32px;\n",
              "      padding: 0 0 0 0;\n",
              "      width: 32px;\n",
              "    }\n",
              "\n",
              "    .colab-df-convert:hover {\n",
              "      background-color: #E2EBFA;\n",
              "      box-shadow: 0px 1px 2px rgba(60, 64, 67, 0.3), 0px 1px 3px 1px rgba(60, 64, 67, 0.15);\n",
              "      fill: #174EA6;\n",
              "    }\n",
              "\n",
              "    [theme=dark] .colab-df-convert {\n",
              "      background-color: #3B4455;\n",
              "      fill: #D2E3FC;\n",
              "    }\n",
              "\n",
              "    [theme=dark] .colab-df-convert:hover {\n",
              "      background-color: #434B5C;\n",
              "      box-shadow: 0px 1px 3px 1px rgba(0, 0, 0, 0.15);\n",
              "      filter: drop-shadow(0px 1px 2px rgba(0, 0, 0, 0.3));\n",
              "      fill: #FFFFFF;\n",
              "    }\n",
              "  </style>\n",
              "\n",
              "      <script>\n",
              "        const buttonEl =\n",
              "          document.querySelector('#df-d482d8cc-b795-4d54-8dd5-8560e52ec507 button.colab-df-convert');\n",
              "        buttonEl.style.display =\n",
              "          google.colab.kernel.accessAllowed ? 'block' : 'none';\n",
              "\n",
              "        async function convertToInteractive(key) {\n",
              "          const element = document.querySelector('#df-d482d8cc-b795-4d54-8dd5-8560e52ec507');\n",
              "          const dataTable =\n",
              "            await google.colab.kernel.invokeFunction('convertToInteractive',\n",
              "                                                     [key], {});\n",
              "          if (!dataTable) return;\n",
              "\n",
              "          const docLinkHtml = 'Like what you see? Visit the ' +\n",
              "            '<a target=\"_blank\" href=https://colab.research.google.com/notebooks/data_table.ipynb>data table notebook</a>'\n",
              "            + ' to learn more about interactive tables.';\n",
              "          element.innerHTML = '';\n",
              "          dataTable['output_type'] = 'display_data';\n",
              "          await google.colab.output.renderOutput(dataTable, element);\n",
              "          const docLink = document.createElement('div');\n",
              "          docLink.innerHTML = docLinkHtml;\n",
              "          element.appendChild(docLink);\n",
              "        }\n",
              "      </script>\n",
              "    </div>\n",
              "  </div>\n",
              "  "
            ]
          },
          "metadata": {},
          "execution_count": 2
        }
      ]
    },
    {
      "cell_type": "code",
      "source": [
        "df = df[['Date', 'Close']]\n",
        "df"
      ],
      "metadata": {
        "colab": {
          "base_uri": "https://localhost:8080/",
          "height": 424
        },
        "id": "Gdck_u8-QvBK",
        "outputId": "71b368a8-a03d-4703-90c7-f7dc8ac7da5a"
      },
      "execution_count": 3,
      "outputs": [
        {
          "output_type": "execute_result",
          "data": {
            "text/plain": [
              "            Date       Close\n",
              "0     1986-03-13    0.097222\n",
              "1     1986-03-14    0.100694\n",
              "2     1986-03-17    0.102431\n",
              "3     1986-03-18    0.099826\n",
              "4     1986-03-19    0.098090\n",
              "...          ...         ...\n",
              "9204  2022-09-19  244.520004\n",
              "9205  2022-09-20  242.449997\n",
              "9206  2022-09-21  238.949997\n",
              "9207  2022-09-22  240.979996\n",
              "9208  2022-09-23  237.919998\n",
              "\n",
              "[9209 rows x 2 columns]"
            ],
            "text/html": [
              "\n",
              "  <div id=\"df-e37eaddc-a0a7-4e02-87ed-cdc3b4e3e345\">\n",
              "    <div class=\"colab-df-container\">\n",
              "      <div>\n",
              "<style scoped>\n",
              "    .dataframe tbody tr th:only-of-type {\n",
              "        vertical-align: middle;\n",
              "    }\n",
              "\n",
              "    .dataframe tbody tr th {\n",
              "        vertical-align: top;\n",
              "    }\n",
              "\n",
              "    .dataframe thead th {\n",
              "        text-align: right;\n",
              "    }\n",
              "</style>\n",
              "<table border=\"1\" class=\"dataframe\">\n",
              "  <thead>\n",
              "    <tr style=\"text-align: right;\">\n",
              "      <th></th>\n",
              "      <th>Date</th>\n",
              "      <th>Close</th>\n",
              "    </tr>\n",
              "  </thead>\n",
              "  <tbody>\n",
              "    <tr>\n",
              "      <th>0</th>\n",
              "      <td>1986-03-13</td>\n",
              "      <td>0.097222</td>\n",
              "    </tr>\n",
              "    <tr>\n",
              "      <th>1</th>\n",
              "      <td>1986-03-14</td>\n",
              "      <td>0.100694</td>\n",
              "    </tr>\n",
              "    <tr>\n",
              "      <th>2</th>\n",
              "      <td>1986-03-17</td>\n",
              "      <td>0.102431</td>\n",
              "    </tr>\n",
              "    <tr>\n",
              "      <th>3</th>\n",
              "      <td>1986-03-18</td>\n",
              "      <td>0.099826</td>\n",
              "    </tr>\n",
              "    <tr>\n",
              "      <th>4</th>\n",
              "      <td>1986-03-19</td>\n",
              "      <td>0.098090</td>\n",
              "    </tr>\n",
              "    <tr>\n",
              "      <th>...</th>\n",
              "      <td>...</td>\n",
              "      <td>...</td>\n",
              "    </tr>\n",
              "    <tr>\n",
              "      <th>9204</th>\n",
              "      <td>2022-09-19</td>\n",
              "      <td>244.520004</td>\n",
              "    </tr>\n",
              "    <tr>\n",
              "      <th>9205</th>\n",
              "      <td>2022-09-20</td>\n",
              "      <td>242.449997</td>\n",
              "    </tr>\n",
              "    <tr>\n",
              "      <th>9206</th>\n",
              "      <td>2022-09-21</td>\n",
              "      <td>238.949997</td>\n",
              "    </tr>\n",
              "    <tr>\n",
              "      <th>9207</th>\n",
              "      <td>2022-09-22</td>\n",
              "      <td>240.979996</td>\n",
              "    </tr>\n",
              "    <tr>\n",
              "      <th>9208</th>\n",
              "      <td>2022-09-23</td>\n",
              "      <td>237.919998</td>\n",
              "    </tr>\n",
              "  </tbody>\n",
              "</table>\n",
              "<p>9209 rows × 2 columns</p>\n",
              "</div>\n",
              "      <button class=\"colab-df-convert\" onclick=\"convertToInteractive('df-e37eaddc-a0a7-4e02-87ed-cdc3b4e3e345')\"\n",
              "              title=\"Convert this dataframe to an interactive table.\"\n",
              "              style=\"display:none;\">\n",
              "        \n",
              "  <svg xmlns=\"http://www.w3.org/2000/svg\" height=\"24px\"viewBox=\"0 0 24 24\"\n",
              "       width=\"24px\">\n",
              "    <path d=\"M0 0h24v24H0V0z\" fill=\"none\"/>\n",
              "    <path d=\"M18.56 5.44l.94 2.06.94-2.06 2.06-.94-2.06-.94-.94-2.06-.94 2.06-2.06.94zm-11 1L8.5 8.5l.94-2.06 2.06-.94-2.06-.94L8.5 2.5l-.94 2.06-2.06.94zm10 10l.94 2.06.94-2.06 2.06-.94-2.06-.94-.94-2.06-.94 2.06-2.06.94z\"/><path d=\"M17.41 7.96l-1.37-1.37c-.4-.4-.92-.59-1.43-.59-.52 0-1.04.2-1.43.59L10.3 9.45l-7.72 7.72c-.78.78-.78 2.05 0 2.83L4 21.41c.39.39.9.59 1.41.59.51 0 1.02-.2 1.41-.59l7.78-7.78 2.81-2.81c.8-.78.8-2.07 0-2.86zM5.41 20L4 18.59l7.72-7.72 1.47 1.35L5.41 20z\"/>\n",
              "  </svg>\n",
              "      </button>\n",
              "      \n",
              "  <style>\n",
              "    .colab-df-container {\n",
              "      display:flex;\n",
              "      flex-wrap:wrap;\n",
              "      gap: 12px;\n",
              "    }\n",
              "\n",
              "    .colab-df-convert {\n",
              "      background-color: #E8F0FE;\n",
              "      border: none;\n",
              "      border-radius: 50%;\n",
              "      cursor: pointer;\n",
              "      display: none;\n",
              "      fill: #1967D2;\n",
              "      height: 32px;\n",
              "      padding: 0 0 0 0;\n",
              "      width: 32px;\n",
              "    }\n",
              "\n",
              "    .colab-df-convert:hover {\n",
              "      background-color: #E2EBFA;\n",
              "      box-shadow: 0px 1px 2px rgba(60, 64, 67, 0.3), 0px 1px 3px 1px rgba(60, 64, 67, 0.15);\n",
              "      fill: #174EA6;\n",
              "    }\n",
              "\n",
              "    [theme=dark] .colab-df-convert {\n",
              "      background-color: #3B4455;\n",
              "      fill: #D2E3FC;\n",
              "    }\n",
              "\n",
              "    [theme=dark] .colab-df-convert:hover {\n",
              "      background-color: #434B5C;\n",
              "      box-shadow: 0px 1px 3px 1px rgba(0, 0, 0, 0.15);\n",
              "      filter: drop-shadow(0px 1px 2px rgba(0, 0, 0, 0.3));\n",
              "      fill: #FFFFFF;\n",
              "    }\n",
              "  </style>\n",
              "\n",
              "      <script>\n",
              "        const buttonEl =\n",
              "          document.querySelector('#df-e37eaddc-a0a7-4e02-87ed-cdc3b4e3e345 button.colab-df-convert');\n",
              "        buttonEl.style.display =\n",
              "          google.colab.kernel.accessAllowed ? 'block' : 'none';\n",
              "\n",
              "        async function convertToInteractive(key) {\n",
              "          const element = document.querySelector('#df-e37eaddc-a0a7-4e02-87ed-cdc3b4e3e345');\n",
              "          const dataTable =\n",
              "            await google.colab.kernel.invokeFunction('convertToInteractive',\n",
              "                                                     [key], {});\n",
              "          if (!dataTable) return;\n",
              "\n",
              "          const docLinkHtml = 'Like what you see? Visit the ' +\n",
              "            '<a target=\"_blank\" href=https://colab.research.google.com/notebooks/data_table.ipynb>data table notebook</a>'\n",
              "            + ' to learn more about interactive tables.';\n",
              "          element.innerHTML = '';\n",
              "          dataTable['output_type'] = 'display_data';\n",
              "          await google.colab.output.renderOutput(dataTable, element);\n",
              "          const docLink = document.createElement('div');\n",
              "          docLink.innerHTML = docLinkHtml;\n",
              "          element.appendChild(docLink);\n",
              "        }\n",
              "      </script>\n",
              "    </div>\n",
              "  </div>\n",
              "  "
            ]
          },
          "metadata": {},
          "execution_count": 3
        }
      ]
    },
    {
      "cell_type": "code",
      "source": [
        "df['Date']"
      ],
      "metadata": {
        "colab": {
          "base_uri": "https://localhost:8080/"
        },
        "id": "cdCJJwNoRBsq",
        "outputId": "f3140a63-fdc1-407e-be56-2996646ed4bc"
      },
      "execution_count": 4,
      "outputs": [
        {
          "output_type": "execute_result",
          "data": {
            "text/plain": [
              "0       1986-03-13\n",
              "1       1986-03-14\n",
              "2       1986-03-17\n",
              "3       1986-03-18\n",
              "4       1986-03-19\n",
              "           ...    \n",
              "9204    2022-09-19\n",
              "9205    2022-09-20\n",
              "9206    2022-09-21\n",
              "9207    2022-09-22\n",
              "9208    2022-09-23\n",
              "Name: Date, Length: 9209, dtype: object"
            ]
          },
          "metadata": {},
          "execution_count": 4
        }
      ]
    },
    {
      "cell_type": "code",
      "source": [
        "import datetime\n",
        "\n",
        "def str_to_datetime(s):\n",
        "  split = s.split('-')\n",
        "  year, month, day = int(split[0]), int(split[1]), int(split[2])\n",
        "  return datetime.datetime(year = year, month = month, day = day)\n",
        "\n",
        "datetime_object = str_to_datetime('1986-03-13')\n",
        "datetime_object"
      ],
      "metadata": {
        "colab": {
          "base_uri": "https://localhost:8080/"
        },
        "id": "yQyJ8mF8RH_Q",
        "outputId": "559216cf-af9f-4d52-c525-cfac0fafa593"
      },
      "execution_count": 5,
      "outputs": [
        {
          "output_type": "execute_result",
          "data": {
            "text/plain": [
              "datetime.datetime(1986, 3, 13, 0, 0)"
            ]
          },
          "metadata": {},
          "execution_count": 5
        }
      ]
    },
    {
      "cell_type": "code",
      "source": [
        "df['Date'] = df['Date'].apply(str_to_datetime)\n",
        "df['Date']"
      ],
      "metadata": {
        "colab": {
          "base_uri": "https://localhost:8080/"
        },
        "id": "mgatuXEuR7Xa",
        "outputId": "c8b85c74-865e-4a0e-fdf2-655375afcebd"
      },
      "execution_count": 6,
      "outputs": [
        {
          "output_type": "stream",
          "name": "stderr",
          "text": [
            "/usr/local/lib/python3.7/dist-packages/ipykernel_launcher.py:1: SettingWithCopyWarning: \n",
            "A value is trying to be set on a copy of a slice from a DataFrame.\n",
            "Try using .loc[row_indexer,col_indexer] = value instead\n",
            "\n",
            "See the caveats in the documentation: https://pandas.pydata.org/pandas-docs/stable/user_guide/indexing.html#returning-a-view-versus-a-copy\n",
            "  \"\"\"Entry point for launching an IPython kernel.\n"
          ]
        },
        {
          "output_type": "execute_result",
          "data": {
            "text/plain": [
              "0      1986-03-13\n",
              "1      1986-03-14\n",
              "2      1986-03-17\n",
              "3      1986-03-18\n",
              "4      1986-03-19\n",
              "          ...    \n",
              "9204   2022-09-19\n",
              "9205   2022-09-20\n",
              "9206   2022-09-21\n",
              "9207   2022-09-22\n",
              "9208   2022-09-23\n",
              "Name: Date, Length: 9209, dtype: datetime64[ns]"
            ]
          },
          "metadata": {},
          "execution_count": 6
        }
      ]
    },
    {
      "cell_type": "code",
      "source": [
        "df.index = df.pop('Date')\n",
        "df"
      ],
      "metadata": {
        "id": "tdaCibQHSMMR",
        "colab": {
          "base_uri": "https://localhost:8080/",
          "height": 455
        },
        "outputId": "62285b4d-750e-4e4f-8f77-f221fb7d5d1e"
      },
      "execution_count": 7,
      "outputs": [
        {
          "output_type": "execute_result",
          "data": {
            "text/plain": [
              "                 Close\n",
              "Date                  \n",
              "1986-03-13    0.097222\n",
              "1986-03-14    0.100694\n",
              "1986-03-17    0.102431\n",
              "1986-03-18    0.099826\n",
              "1986-03-19    0.098090\n",
              "...                ...\n",
              "2022-09-19  244.520004\n",
              "2022-09-20  242.449997\n",
              "2022-09-21  238.949997\n",
              "2022-09-22  240.979996\n",
              "2022-09-23  237.919998\n",
              "\n",
              "[9209 rows x 1 columns]"
            ],
            "text/html": [
              "\n",
              "  <div id=\"df-1cd68697-8ac1-4003-8954-bc5d6fccdffd\">\n",
              "    <div class=\"colab-df-container\">\n",
              "      <div>\n",
              "<style scoped>\n",
              "    .dataframe tbody tr th:only-of-type {\n",
              "        vertical-align: middle;\n",
              "    }\n",
              "\n",
              "    .dataframe tbody tr th {\n",
              "        vertical-align: top;\n",
              "    }\n",
              "\n",
              "    .dataframe thead th {\n",
              "        text-align: right;\n",
              "    }\n",
              "</style>\n",
              "<table border=\"1\" class=\"dataframe\">\n",
              "  <thead>\n",
              "    <tr style=\"text-align: right;\">\n",
              "      <th></th>\n",
              "      <th>Close</th>\n",
              "    </tr>\n",
              "    <tr>\n",
              "      <th>Date</th>\n",
              "      <th></th>\n",
              "    </tr>\n",
              "  </thead>\n",
              "  <tbody>\n",
              "    <tr>\n",
              "      <th>1986-03-13</th>\n",
              "      <td>0.097222</td>\n",
              "    </tr>\n",
              "    <tr>\n",
              "      <th>1986-03-14</th>\n",
              "      <td>0.100694</td>\n",
              "    </tr>\n",
              "    <tr>\n",
              "      <th>1986-03-17</th>\n",
              "      <td>0.102431</td>\n",
              "    </tr>\n",
              "    <tr>\n",
              "      <th>1986-03-18</th>\n",
              "      <td>0.099826</td>\n",
              "    </tr>\n",
              "    <tr>\n",
              "      <th>1986-03-19</th>\n",
              "      <td>0.098090</td>\n",
              "    </tr>\n",
              "    <tr>\n",
              "      <th>...</th>\n",
              "      <td>...</td>\n",
              "    </tr>\n",
              "    <tr>\n",
              "      <th>2022-09-19</th>\n",
              "      <td>244.520004</td>\n",
              "    </tr>\n",
              "    <tr>\n",
              "      <th>2022-09-20</th>\n",
              "      <td>242.449997</td>\n",
              "    </tr>\n",
              "    <tr>\n",
              "      <th>2022-09-21</th>\n",
              "      <td>238.949997</td>\n",
              "    </tr>\n",
              "    <tr>\n",
              "      <th>2022-09-22</th>\n",
              "      <td>240.979996</td>\n",
              "    </tr>\n",
              "    <tr>\n",
              "      <th>2022-09-23</th>\n",
              "      <td>237.919998</td>\n",
              "    </tr>\n",
              "  </tbody>\n",
              "</table>\n",
              "<p>9209 rows × 1 columns</p>\n",
              "</div>\n",
              "      <button class=\"colab-df-convert\" onclick=\"convertToInteractive('df-1cd68697-8ac1-4003-8954-bc5d6fccdffd')\"\n",
              "              title=\"Convert this dataframe to an interactive table.\"\n",
              "              style=\"display:none;\">\n",
              "        \n",
              "  <svg xmlns=\"http://www.w3.org/2000/svg\" height=\"24px\"viewBox=\"0 0 24 24\"\n",
              "       width=\"24px\">\n",
              "    <path d=\"M0 0h24v24H0V0z\" fill=\"none\"/>\n",
              "    <path d=\"M18.56 5.44l.94 2.06.94-2.06 2.06-.94-2.06-.94-.94-2.06-.94 2.06-2.06.94zm-11 1L8.5 8.5l.94-2.06 2.06-.94-2.06-.94L8.5 2.5l-.94 2.06-2.06.94zm10 10l.94 2.06.94-2.06 2.06-.94-2.06-.94-.94-2.06-.94 2.06-2.06.94z\"/><path d=\"M17.41 7.96l-1.37-1.37c-.4-.4-.92-.59-1.43-.59-.52 0-1.04.2-1.43.59L10.3 9.45l-7.72 7.72c-.78.78-.78 2.05 0 2.83L4 21.41c.39.39.9.59 1.41.59.51 0 1.02-.2 1.41-.59l7.78-7.78 2.81-2.81c.8-.78.8-2.07 0-2.86zM5.41 20L4 18.59l7.72-7.72 1.47 1.35L5.41 20z\"/>\n",
              "  </svg>\n",
              "      </button>\n",
              "      \n",
              "  <style>\n",
              "    .colab-df-container {\n",
              "      display:flex;\n",
              "      flex-wrap:wrap;\n",
              "      gap: 12px;\n",
              "    }\n",
              "\n",
              "    .colab-df-convert {\n",
              "      background-color: #E8F0FE;\n",
              "      border: none;\n",
              "      border-radius: 50%;\n",
              "      cursor: pointer;\n",
              "      display: none;\n",
              "      fill: #1967D2;\n",
              "      height: 32px;\n",
              "      padding: 0 0 0 0;\n",
              "      width: 32px;\n",
              "    }\n",
              "\n",
              "    .colab-df-convert:hover {\n",
              "      background-color: #E2EBFA;\n",
              "      box-shadow: 0px 1px 2px rgba(60, 64, 67, 0.3), 0px 1px 3px 1px rgba(60, 64, 67, 0.15);\n",
              "      fill: #174EA6;\n",
              "    }\n",
              "\n",
              "    [theme=dark] .colab-df-convert {\n",
              "      background-color: #3B4455;\n",
              "      fill: #D2E3FC;\n",
              "    }\n",
              "\n",
              "    [theme=dark] .colab-df-convert:hover {\n",
              "      background-color: #434B5C;\n",
              "      box-shadow: 0px 1px 3px 1px rgba(0, 0, 0, 0.15);\n",
              "      filter: drop-shadow(0px 1px 2px rgba(0, 0, 0, 0.3));\n",
              "      fill: #FFFFFF;\n",
              "    }\n",
              "  </style>\n",
              "\n",
              "      <script>\n",
              "        const buttonEl =\n",
              "          document.querySelector('#df-1cd68697-8ac1-4003-8954-bc5d6fccdffd button.colab-df-convert');\n",
              "        buttonEl.style.display =\n",
              "          google.colab.kernel.accessAllowed ? 'block' : 'none';\n",
              "\n",
              "        async function convertToInteractive(key) {\n",
              "          const element = document.querySelector('#df-1cd68697-8ac1-4003-8954-bc5d6fccdffd');\n",
              "          const dataTable =\n",
              "            await google.colab.kernel.invokeFunction('convertToInteractive',\n",
              "                                                     [key], {});\n",
              "          if (!dataTable) return;\n",
              "\n",
              "          const docLinkHtml = 'Like what you see? Visit the ' +\n",
              "            '<a target=\"_blank\" href=https://colab.research.google.com/notebooks/data_table.ipynb>data table notebook</a>'\n",
              "            + ' to learn more about interactive tables.';\n",
              "          element.innerHTML = '';\n",
              "          dataTable['output_type'] = 'display_data';\n",
              "          await google.colab.output.renderOutput(dataTable, element);\n",
              "          const docLink = document.createElement('div');\n",
              "          docLink.innerHTML = docLinkHtml;\n",
              "          element.appendChild(docLink);\n",
              "        }\n",
              "      </script>\n",
              "    </div>\n",
              "  </div>\n",
              "  "
            ]
          },
          "metadata": {},
          "execution_count": 7
        }
      ]
    },
    {
      "cell_type": "code",
      "source": [
        "import matplotlib.pyplot as plt\n",
        "\n",
        "plt.plot(df.index, df['Close'])"
      ],
      "metadata": {
        "colab": {
          "base_uri": "https://localhost:8080/",
          "height": 282
        },
        "id": "FSLzWdfRSlSi",
        "outputId": "9e4895ab-d45a-455c-d22b-5458aa012571"
      },
      "execution_count": 8,
      "outputs": [
        {
          "output_type": "execute_result",
          "data": {
            "text/plain": [
              "[<matplotlib.lines.Line2D at 0x7f74f8fd6550>]"
            ]
          },
          "metadata": {},
          "execution_count": 8
        },
        {
          "output_type": "display_data",
          "data": {
            "text/plain": [
              "<Figure size 432x288 with 1 Axes>"
            ],
            "image/png": "[encoded data removed]"
          },
          "metadata": {
            "needs_background": "light"
          }
        }
      ]
    },
    {
      "cell_type": "code",
      "source": [
        "import numpy as np\n",
        "\n",
        "# this function is going to take a dateframe, first date, and last date\n",
        "def df_to_windowed_df(dataframe, first_date_str, last_date_str, n = 3):\n",
        "  first_date = str_to_datetime(first_date_str)\n",
        "  last_date = str_to_datetime(last_date_str)\n",
        "  \n",
        "  target_date = first_date\n",
        "\n",
        "  dates = []\n",
        "  X, Y = [], []\n",
        "\n",
        "  last_time = False\n",
        "  while True:\n",
        "    df_subset = dataframe.loc[:target_date].tail(n+1)\n",
        "\n",
        "    if len(df_subset) != n+1:\n",
        "      print(f'Error: Window of size {n} is too large for date {target_date}')\n",
        "      return\n",
        "    \n",
        "    values = df_subset['Close'].to_numpy()\n",
        "    x, y = values[:-1], values[-1]\n",
        "\n",
        "    dates.append(target_date)\n",
        "    X.append(x)\n",
        "    Y.append(y)\n",
        "\n",
        "    next_week = dataframe.loc[target_date:target_date + datetime.timedelta(days = 7)]\n",
        "    next_datetime_str = str(next_week.head(2).tail(1).index.values[0])\n",
        "    next_date_str = next_datetime_str.split('T')[0]\n",
        "    year_month_day = next_date_str.split('-')\n",
        "    year, month, day = year_month_day\n",
        "    next_date= datetime.datetime(day = int(day), month = int(month), year = int(year))\n",
        "\n",
        "    if last_time:\n",
        "      break\n",
        "    \n",
        "    target_date = next_date\n",
        "\n",
        "    if target_date == last_date:\n",
        "      last_time = True\n",
        "\n",
        "  ret_df = pd.DataFrame({})\n",
        "  ret_df['Target Date'] = dates\n",
        "\n",
        "  X = np.array(X)\n",
        "  for i in range(0, n):\n",
        "    X[:, i]\n",
        "    ret_df[f'Target-{n-i}'] = X[:, i]\n",
        "  \n",
        "  ret_df['Target'] = Y\n",
        "  return ret_df\n",
        "\n",
        "# Start day second time around: '2022-03-25'\n",
        "windowed_df = df_to_windowed_df(df, \n",
        "                                '2021-03-25\t', \n",
        "                                '2022-09-23',\n",
        "                                n = 3)\n",
        "windowed_df"
      ],
      "metadata": {
        "colab": {
          "base_uri": "https://localhost:8080/",
          "height": 424
        },
        "id": "edKtLvoNS1MQ",
        "outputId": "af0cf7ce-cafc-4cce-a18a-6242c8dec273"
      },
      "execution_count": 9,
      "outputs": [
        {
          "output_type": "execute_result",
          "data": {
            "text/plain": [
              "    Target Date    Target-3    Target-2    Target-1      Target\n",
              "0    2021-03-25  235.990005  237.580002  235.460007  232.339996\n",
              "1    2021-03-26  237.580002  235.460007  232.339996  236.479996\n",
              "2    2021-03-29  235.460007  232.339996  236.479996  235.240005\n",
              "3    2021-03-30  232.339996  236.479996  235.240005  231.850006\n",
              "4    2021-03-31  236.479996  235.240005  231.850006  235.770004\n",
              "..          ...         ...         ...         ...         ...\n",
              "374  2022-09-19  252.220001  245.380005  244.740005  244.520004\n",
              "375  2022-09-20  245.380005  244.740005  244.520004  242.449997\n",
              "376  2022-09-21  244.740005  244.520004  242.449997  238.949997\n",
              "377  2022-09-22  244.520004  242.449997  238.949997  240.979996\n",
              "378  2022-09-23  242.449997  238.949997  240.979996  237.919998\n",
              "\n",
              "[379 rows x 5 columns]"
            ],
            "text/html": [
              "\n",
              "  <div id=\"df-bce423e0-2d66-4f61-bc0f-dcfa06d8528f\">\n",
              "    <div class=\"colab-df-container\">\n",
              "      <div>\n",
              "<style scoped>\n",
              "    .dataframe tbody tr th:only-of-type {\n",
              "        vertical-align: middle;\n",
              "    }\n",
              "\n",
              "    .dataframe tbody tr th {\n",
              "        vertical-align: top;\n",
              "    }\n",
              "\n",
              "    .dataframe thead th {\n",
              "        text-align: right;\n",
              "    }\n",
              "</style>\n",
              "<table border=\"1\" class=\"dataframe\">\n",
              "  <thead>\n",
              "    <tr style=\"text-align: right;\">\n",
              "      <th></th>\n",
              "      <th>Target Date</th>\n",
              "      <th>Target-3</th>\n",
              "      <th>Target-2</th>\n",
              "      <th>Target-1</th>\n",
              "      <th>Target</th>\n",
              "    </tr>\n",
              "  </thead>\n",
              "  <tbody>\n",
              "    <tr>\n",
              "      <th>0</th>\n",
              "      <td>2021-03-25</td>\n",
              "      <td>235.990005</td>\n",
              "      <td>237.580002</td>\n",
              "      <td>235.460007</td>\n",
              "      <td>232.339996</td>\n",
              "    </tr>\n",
              "    <tr>\n",
              "      <th>1</th>\n",
              "      <td>2021-03-26</td>\n",
              "      <td>237.580002</td>\n",
              "      <td>235.460007</td>\n",
              "      <td>232.339996</td>\n",
              "      <td>236.479996</td>\n",
              "    </tr>\n",
              "    <tr>\n",
              "      <th>2</th>\n",
              "      <td>2021-03-29</td>\n",
              "      <td>235.460007</td>\n",
              "      <td>232.339996</td>\n",
              "      <td>236.479996</td>\n",
              "      <td>235.240005</td>\n",
              "    </tr>\n",
              "    <tr>\n",
              "      <th>3</th>\n",
              "      <td>2021-03-30</td>\n",
              "      <td>232.339996</td>\n",
              "      <td>236.479996</td>\n",
              "      <td>235.240005</td>\n",
              "      <td>231.850006</td>\n",
              "    </tr>\n",
              "    <tr>\n",
              "      <th>4</th>\n",
              "      <td>2021-03-31</td>\n",
              "      <td>236.479996</td>\n",
              "      <td>235.240005</td>\n",
              "      <td>231.850006</td>\n",
              "      <td>235.770004</td>\n",
              "    </tr>\n",
              "    <tr>\n",
              "      <th>...</th>\n",
              "      <td>...</td>\n",
              "      <td>...</td>\n",
              "      <td>...</td>\n",
              "      <td>...</td>\n",
              "      <td>...</td>\n",
              "    </tr>\n",
              "    <tr>\n",
              "      <th>374</th>\n",
              "      <td>2022-09-19</td>\n",
              "      <td>252.220001</td>\n",
              "      <td>245.380005</td>\n",
              "      <td>244.740005</td>\n",
              "      <td>244.520004</td>\n",
              "    </tr>\n",
              "    <tr>\n",
              "      <th>375</th>\n",
              "      <td>2022-09-20</td>\n",
              "      <td>245.380005</td>\n",
              "      <td>244.740005</td>\n",
              "      <td>244.520004</td>\n",
              "      <td>242.449997</td>\n",
              "    </tr>\n",
              "    <tr>\n",
              "      <th>376</th>\n",
              "      <td>2022-09-21</td>\n",
              "      <td>244.740005</td>\n",
              "      <td>244.520004</td>\n",
              "      <td>242.449997</td>\n",
              "      <td>238.949997</td>\n",
              "    </tr>\n",
              "    <tr>\n",
              "      <th>377</th>\n",
              "      <td>2022-09-22</td>\n",
              "      <td>244.520004</td>\n",
              "      <td>242.449997</td>\n",
              "      <td>238.949997</td>\n",
              "      <td>240.979996</td>\n",
              "    </tr>\n",
              "    <tr>\n",
              "      <th>378</th>\n",
              "      <td>2022-09-23</td>\n",
              "      <td>242.449997</td>\n",
              "      <td>238.949997</td>\n",
              "      <td>240.979996</td>\n",
              "      <td>237.919998</td>\n",
              "    </tr>\n",
              "  </tbody>\n",
              "</table>\n",
              "<p>379 rows × 5 columns</p>\n",
              "</div>\n",
              "      <button class=\"colab-df-convert\" onclick=\"convertToInteractive('df-bce423e0-2d66-4f61-bc0f-dcfa06d8528f')\"\n",
              "              title=\"Convert this dataframe to an interactive table.\"\n",
              "              style=\"display:none;\">\n",
              "        \n",
              "  <svg xmlns=\"http://www.w3.org/2000/svg\" height=\"24px\"viewBox=\"0 0 24 24\"\n",
              "       width=\"24px\">\n",
              "    <path d=\"M0 0h24v24H0V0z\" fill=\"none\"/>\n",
              "    <path d=\"M18.56 5.44l.94 2.06.94-2.06 2.06-.94-2.06-.94-.94-2.06-.94 2.06-2.06.94zm-11 1L8.5 8.5l.94-2.06 2.06-.94-2.06-.94L8.5 2.5l-.94 2.06-2.06.94zm10 10l.94 2.06.94-2.06 2.06-.94-2.06-.94-.94-2.06-.94 2.06-2.06.94z\"/><path d=\"M17.41 7.96l-1.37-1.37c-.4-.4-.92-.59-1.43-.59-.52 0-1.04.2-1.43.59L10.3 9.45l-7.72 7.72c-.78.78-.78 2.05 0 2.83L4 21.41c.39.39.9.59 1.41.59.51 0 1.02-.2 1.41-.59l7.78-7.78 2.81-2.81c.8-.78.8-2.07 0-2.86zM5.41 20L4 18.59l7.72-7.72 1.47 1.35L5.41 20z\"/>\n",
              "  </svg>\n",
              "      </button>\n",
              "      \n",
              "  <style>\n",
              "    .colab-df-container {\n",
              "      display:flex;\n",
              "      flex-wrap:wrap;\n",
              "      gap: 12px;\n",
              "    }\n",
              "\n",
              "    .colab-df-convert {\n",
              "      background-color: #E8F0FE;\n",
              "      border: none;\n",
              "      border-radius: 50%;\n",
              "      cursor: pointer;\n",
              "      display: none;\n",
              "      fill: #1967D2;\n",
              "      height: 32px;\n",
              "      padding: 0 0 0 0;\n",
              "      width: 32px;\n",
              "    }\n",
              "\n",
              "    .colab-df-convert:hover {\n",
              "      background-color: #E2EBFA;\n",
              "      box-shadow: 0px 1px 2px rgba(60, 64, 67, 0.3), 0px 1px 3px 1px rgba(60, 64, 67, 0.15);\n",
              "      fill: #174EA6;\n",
              "    }\n",
              "\n",
              "    [theme=dark] .colab-df-convert {\n",
              "      background-color: #3B4455;\n",
              "      fill: #D2E3FC;\n",
              "    }\n",
              "\n",
              "    [theme=dark] .colab-df-convert:hover {\n",
              "      background-color: #434B5C;\n",
              "      box-shadow: 0px 1px 3px 1px rgba(0, 0, 0, 0.15);\n",
              "      filter: drop-shadow(0px 1px 2px rgba(0, 0, 0, 0.3));\n",
              "      fill: #FFFFFF;\n",
              "    }\n",
              "  </style>\n",
              "\n",
              "      <script>\n",
              "        const buttonEl =\n",
              "          document.querySelector('#df-bce423e0-2d66-4f61-bc0f-dcfa06d8528f button.colab-df-convert');\n",
              "        buttonEl.style.display =\n",
              "          google.colab.kernel.accessAllowed ? 'block' : 'none';\n",
              "\n",
              "        async function convertToInteractive(key) {\n",
              "          const element = document.querySelector('#df-bce423e0-2d66-4f61-bc0f-dcfa06d8528f');\n",
              "          const dataTable =\n",
              "            await google.colab.kernel.invokeFunction('convertToInteractive',\n",
              "                                                     [key], {});\n",
              "          if (!dataTable) return;\n",
              "\n",
              "          const docLinkHtml = 'Like what you see? Visit the ' +\n",
              "            '<a target=\"_blank\" href=https://colab.research.google.com/notebooks/data_table.ipynb>data table notebook</a>'\n",
              "            + ' to learn more about interactive tables.';\n",
              "          element.innerHTML = '';\n",
              "          dataTable['output_type'] = 'display_data';\n",
              "          await google.colab.output.renderOutput(dataTable, element);\n",
              "          const docLink = document.createElement('div');\n",
              "          docLink.innerHTML = docLinkHtml;\n",
              "          element.appendChild(docLink);\n",
              "        }\n",
              "      </script>\n",
              "    </div>\n",
              "  </div>\n",
              "  "
            ]
          },
          "metadata": {},
          "execution_count": 9
        }
      ]
    },
    {
      "cell_type": "code",
      "source": [
        "def windowed_df_to_date_X_y(windowed_dataframe):\n",
        "  df_as_np = windowed_dataframe.to_numpy()\n",
        "\n",
        "  dates = df_as_np[:, 0]\n",
        "\n",
        "  middle_matrix = df_as_np[:, 1:-1]\n",
        "  X = middle_matrix.reshape((len(dates), middle_matrix.shape[1], 1))\n",
        "\n",
        "  Y = df_as_np[:, -1]\n",
        "\n",
        "  return dates, X.astype(np.float32), Y.astype(np.float32)\n",
        "\n",
        "dates, X, y = windowed_df_to_date_X_y(windowed_df)\n",
        "\n",
        "dates.shape, X.shape, y.shape"
      ],
      "metadata": {
        "colab": {
          "base_uri": "https://localhost:8080/"
        },
        "id": "t94pcXMQ51l6",
        "outputId": "810bbefa-74d4-4ceb-c06e-677ed7cb5c02"
      },
      "execution_count": 10,
      "outputs": [
        {
          "output_type": "execute_result",
          "data": {
            "text/plain": [
              "((379,), (379, 3, 1), (379,))"
            ]
          },
          "metadata": {},
          "execution_count": 10
        }
      ]
    },
    {
      "cell_type": "code",
      "source": [
        "q_80 = int(len(dates) * .8)\n",
        "q_90 = int(len(dates) * .9)\n",
        "\n",
        "dates_train, X_train, y_train = dates[:q_80], X[:q_80], y[:q_80]\n",
        "\n",
        "dates_val, X_val, y_val = dates[q_80:q_90], X[q_80:q_90], y[q_80:q_90]\n",
        "dates_test, X_test, y_test = dates[q_90:], X[q_90:], y[q_90:]\n",
        "\n",
        "plt.plot(dates_train, y_train)\n",
        "plt.plot(dates_val, y_val)\n",
        "plt.plot(dates_test, y_test)\n",
        "\n",
        "plt.legend(['Train', 'Validation', 'Test'])"
      ],
      "metadata": {
        "colab": {
          "base_uri": "https://localhost:8080/",
          "height": 282
        },
        "id": "eSILSgB77WXS",
        "outputId": "ac88e88e-80c0-4192-89d1-1354c5336d89"
      },
      "execution_count": 11,
      "outputs": [
        {
          "output_type": "execute_result",
          "data": {
            "text/plain": [
              "<matplotlib.legend.Legend at 0x7f74f8a1fd50>"
            ]
          },
          "metadata": {},
          "execution_count": 11
        },
        {
          "output_type": "display_data",
          "data": {
            "text/plain": [
              "<Figure size 432x288 with 1 Axes>"
            ],
            "image/png": "[encoded data removed]"
          },
          "metadata": {
            "needs_background": "light"
          }
        }
      ]
    },
    {
      "cell_type": "code",
      "source": [
        "from tensorflow.keras.models import Sequential\n",
        "from tensorflow.keras.optimizers import Adam\n",
        "from tensorflow.keras import layers\n",
        "\n",
        "model = Sequential([layers.Input((3,1)),\n",
        "                    layers.LSTM(64),\n",
        "                    layers.Dense(32, activation = 'relu'),\n",
        "                    layers.Dense(32, activation = 'relu'),\n",
        "                    layers.Dense(1)])\n",
        "model.compile(loss = 'mse',\n",
        "              optimizer = Adam(learning_rate = 0.001),\n",
        "              metrics = ['mean_absolute_error'])\n",
        "model.fit(X_train, y_train, validation_data = (X_val, y_val), epochs = 100)\n"
      ],
      "metadata": {
        "colab": {
          "base_uri": "https://localhost:8080/"
        },
        "id": "M97sglPc9AFC",
        "outputId": "5b0fe302-598f-4593-de62-81b01f0a50b8"
      },
      "execution_count": 12,
      "outputs": [
        {
          "output_type": "stream",
          "name": "stdout",
          "text": [
            "Epoch 1/100\n",
            "10/10 [==============================] - 3s 69ms/step - loss: 84443.6406 - mean_absolute_error: 289.2729 - val_loss: 67528.8438 - val_mean_absolute_error: 259.7063\n",
            "Epoch 2/100\n",
            "10/10 [==============================] - 0s 10ms/step - loss: 84032.4766 - mean_absolute_error: 288.5627 - val_loss: 67078.6641 - val_mean_absolute_error: 258.8381\n",
            "Epoch 3/100\n",
            "10/10 [==============================] - 0s 8ms/step - loss: 83428.2656 - mean_absolute_error: 287.5122 - val_loss: 66388.6250 - val_mean_absolute_error: 257.5017\n",
            "Epoch 4/100\n",
            "10/10 [==============================] - 0s 7ms/step - loss: 82503.9297 - mean_absolute_error: 285.8973 - val_loss: 65266.7109 - val_mean_absolute_error: 255.3140\n",
            "Epoch 5/100\n",
            "10/10 [==============================] - 0s 7ms/step - loss: 81037.4219 - mean_absolute_error: 283.3314 - val_loss: 63833.9023 - val_mean_absolute_error: 252.4923\n",
            "Epoch 6/100\n",
            "10/10 [==============================] - 0s 10ms/step - loss: 79196.4141 - mean_absolute_error: 280.0496 - val_loss: 61587.7773 - val_mean_absolute_error: 248.0044\n",
            "Epoch 7/100\n",
            "10/10 [==============================] - 0s 7ms/step - loss: 76169.5000 - mean_absolute_error: 274.5945 - val_loss: 58335.6758 - val_mean_absolute_error: 241.3590\n",
            "Epoch 8/100\n",
            "10/10 [==============================] - 0s 7ms/step - loss: 72218.7500 - mean_absolute_error: 267.3251 - val_loss: 54567.3828 - val_mean_absolute_error: 233.4220\n",
            "Epoch 9/100\n",
            "10/10 [==============================] - 0s 9ms/step - loss: 67516.8906 - mean_absolute_error: 258.3517 - val_loss: 49611.4531 - val_mean_absolute_error: 222.5522\n",
            "Epoch 10/100\n",
            "10/10 [==============================] - 0s 7ms/step - loss: 61121.2344 - mean_absolute_error: 245.6756 - val_loss: 43346.2383 - val_mean_absolute_error: 208.0017\n",
            "Epoch 11/100\n",
            "10/10 [==============================] - 0s 9ms/step - loss: 53795.6680 - mean_absolute_error: 230.2037 - val_loss: 36129.1328 - val_mean_absolute_error: 189.8616\n",
            "Epoch 12/100\n",
            "10/10 [==============================] - 0s 7ms/step - loss: 45154.4883 - mean_absolute_error: 210.5990 - val_loss: 28914.1582 - val_mean_absolute_error: 169.8020\n",
            "Epoch 13/100\n",
            "10/10 [==============================] - 0s 8ms/step - loss: 36802.7305 - mean_absolute_error: 189.7468 - val_loss: 21785.6465 - val_mean_absolute_error: 147.3223\n",
            "Epoch 14/100\n",
            "10/10 [==============================] - 0s 7ms/step - loss: 28193.7227 - mean_absolute_error: 165.2715 - val_loss: 14642.0381 - val_mean_absolute_error: 120.6651\n",
            "Epoch 15/100\n",
            "10/10 [==============================] - 0s 7ms/step - loss: 19796.4902 - mean_absolute_error: 137.8745 - val_loss: 8361.7686 - val_mean_absolute_error: 90.9926\n",
            "Epoch 16/100\n",
            "10/10 [==============================] - 0s 7ms/step - loss: 12388.6133 - mean_absolute_error: 107.2612 - val_loss: 3744.0708 - val_mean_absolute_error: 60.5195\n",
            "Epoch 17/100\n",
            "10/10 [==============================] - 0s 7ms/step - loss: 6928.8027 - mean_absolute_error: 77.9319 - val_loss: 1178.1310 - val_mean_absolute_error: 33.1067\n",
            "Epoch 18/100\n",
            "10/10 [==============================] - 0s 7ms/step - loss: 3392.1748 - mean_absolute_error: 51.5536 - val_loss: 152.0735 - val_mean_absolute_error: 9.8591\n",
            "Epoch 19/100\n",
            "10/10 [==============================] - 0s 7ms/step - loss: 1644.2314 - mean_absolute_error: 33.3318 - val_loss: 178.8428 - val_mean_absolute_error: 11.3393\n",
            "Epoch 20/100\n",
            "10/10 [==============================] - 0s 8ms/step - loss: 965.5756 - mean_absolute_error: 25.7467 - val_loss: 565.0865 - val_mean_absolute_error: 21.9921\n",
            "Epoch 21/100\n",
            "10/10 [==============================] - 0s 8ms/step - loss: 781.3733 - mean_absolute_error: 22.8253 - val_loss: 887.9680 - val_mean_absolute_error: 28.3996\n",
            "Epoch 22/100\n",
            "10/10 [==============================] - 0s 7ms/step - loss: 765.8000 - mean_absolute_error: 22.5837 - val_loss: 1042.1415 - val_mean_absolute_error: 30.9953\n",
            "Epoch 23/100\n",
            "10/10 [==============================] - 0s 7ms/step - loss: 769.1901 - mean_absolute_error: 22.6054 - val_loss: 1078.1307 - val_mean_absolute_error: 31.5706\n",
            "Epoch 24/100\n",
            "10/10 [==============================] - 0s 7ms/step - loss: 769.1041 - mean_absolute_error: 22.6082 - val_loss: 1046.0337 - val_mean_absolute_error: 31.0581\n",
            "Epoch 25/100\n",
            "10/10 [==============================] - 0s 9ms/step - loss: 766.0042 - mean_absolute_error: 22.5798 - val_loss: 995.7344 - val_mean_absolute_error: 30.2375\n",
            "Epoch 26/100\n",
            "10/10 [==============================] - 0s 7ms/step - loss: 765.4374 - mean_absolute_error: 22.5748 - val_loss: 942.3127 - val_mean_absolute_error: 29.3408\n",
            "Epoch 27/100\n",
            "10/10 [==============================] - 0s 7ms/step - loss: 764.1256 - mean_absolute_error: 22.5601 - val_loss: 926.3301 - val_mean_absolute_error: 29.0672\n",
            "Epoch 28/100\n",
            "10/10 [==============================] - 0s 7ms/step - loss: 764.0830 - mean_absolute_error: 22.5612 - val_loss: 928.9465 - val_mean_absolute_error: 29.1122\n",
            "Epoch 29/100\n",
            "10/10 [==============================] - 0s 8ms/step - loss: 763.9230 - mean_absolute_error: 22.5578 - val_loss: 945.9925 - val_mean_absolute_error: 29.4035\n",
            "Epoch 30/100\n",
            "10/10 [==============================] - 0s 10ms/step - loss: 764.1128 - mean_absolute_error: 22.5561 - val_loss: 946.4066 - val_mean_absolute_error: 29.4106\n",
            "Epoch 31/100\n",
            "10/10 [==============================] - 0s 8ms/step - loss: 764.4813 - mean_absolute_error: 22.5608 - val_loss: 960.7967 - val_mean_absolute_error: 29.6542\n",
            "Epoch 32/100\n",
            "10/10 [==============================] - 0s 8ms/step - loss: 763.7550 - mean_absolute_error: 22.5506 - val_loss: 935.3720 - val_mean_absolute_error: 29.2224\n",
            "Epoch 33/100\n",
            "10/10 [==============================] - 0s 8ms/step - loss: 763.8386 - mean_absolute_error: 22.5560 - val_loss: 921.8992 - val_mean_absolute_error: 29.0007\n",
            "Epoch 34/100\n",
            "10/10 [==============================] - 0s 7ms/step - loss: 746.9915 - mean_absolute_error: 22.3609 - val_loss: 565.3093 - val_mean_absolute_error: 22.1843\n",
            "Epoch 35/100\n",
            "10/10 [==============================] - 0s 7ms/step - loss: 751.1818 - mean_absolute_error: 22.4794 - val_loss: 948.4106 - val_mean_absolute_error: 29.4824\n",
            "Epoch 36/100\n",
            "10/10 [==============================] - 0s 7ms/step - loss: 729.6226 - mean_absolute_error: 22.0395 - val_loss: 622.5851 - val_mean_absolute_error: 23.4357\n",
            "Epoch 37/100\n",
            "10/10 [==============================] - 0s 7ms/step - loss: 696.9622 - mean_absolute_error: 21.5737 - val_loss: 907.1385 - val_mean_absolute_error: 28.8503\n",
            "Epoch 38/100\n",
            "10/10 [==============================] - 0s 7ms/step - loss: 683.8087 - mean_absolute_error: 21.3866 - val_loss: 751.5302 - val_mean_absolute_error: 26.0730\n",
            "Epoch 39/100\n",
            "10/10 [==============================] - 0s 9ms/step - loss: 657.0945 - mean_absolute_error: 21.0453 - val_loss: 750.3873 - val_mean_absolute_error: 26.1168\n",
            "Epoch 40/100\n",
            "10/10 [==============================] - 0s 7ms/step - loss: 619.2892 - mean_absolute_error: 20.3908 - val_loss: 684.5018 - val_mean_absolute_error: 24.8142\n",
            "Epoch 41/100\n",
            "10/10 [==============================] - 0s 10ms/step - loss: 594.6677 - mean_absolute_error: 19.8873 - val_loss: 588.8225 - val_mean_absolute_error: 22.8300\n",
            "Epoch 42/100\n",
            "10/10 [==============================] - 0s 7ms/step - loss: 578.5172 - mean_absolute_error: 19.6332 - val_loss: 670.7420 - val_mean_absolute_error: 24.6141\n",
            "Epoch 43/100\n",
            "10/10 [==============================] - 0s 8ms/step - loss: 561.2355 - mean_absolute_error: 19.4263 - val_loss: 855.5573 - val_mean_absolute_error: 28.1549\n",
            "Epoch 44/100\n",
            "10/10 [==============================] - 0s 8ms/step - loss: 526.5034 - mean_absolute_error: 18.7285 - val_loss: 503.2862 - val_mean_absolute_error: 21.0229\n",
            "Epoch 45/100\n",
            "10/10 [==============================] - 0s 7ms/step - loss: 477.9509 - mean_absolute_error: 17.7964 - val_loss: 360.3202 - val_mean_absolute_error: 17.4098\n",
            "Epoch 46/100\n",
            "10/10 [==============================] - 0s 8ms/step - loss: 431.5335 - mean_absolute_error: 16.8861 - val_loss: 200.6097 - val_mean_absolute_error: 12.4390\n",
            "Epoch 47/100\n",
            "10/10 [==============================] - 0s 7ms/step - loss: 426.3482 - mean_absolute_error: 16.7827 - val_loss: 72.9358 - val_mean_absolute_error: 6.9341\n",
            "Epoch 48/100\n",
            "10/10 [==============================] - 0s 7ms/step - loss: 386.3058 - mean_absolute_error: 15.7305 - val_loss: 639.7452 - val_mean_absolute_error: 24.2923\n",
            "Epoch 49/100\n",
            "10/10 [==============================] - 0s 7ms/step - loss: 337.1488 - mean_absolute_error: 14.9226 - val_loss: 306.1842 - val_mean_absolute_error: 16.0859\n",
            "Epoch 50/100\n",
            "10/10 [==============================] - 0s 8ms/step - loss: 304.1359 - mean_absolute_error: 14.2297 - val_loss: 117.6597 - val_mean_absolute_error: 9.2311\n",
            "Epoch 51/100\n",
            "10/10 [==============================] - 0s 7ms/step - loss: 249.0251 - mean_absolute_error: 12.7923 - val_loss: 85.1323 - val_mean_absolute_error: 7.5740\n",
            "Epoch 52/100\n",
            "10/10 [==============================] - 0s 7ms/step - loss: 214.5846 - mean_absolute_error: 11.6369 - val_loss: 107.0364 - val_mean_absolute_error: 8.8230\n",
            "Epoch 53/100\n",
            "10/10 [==============================] - 0s 9ms/step - loss: 175.6729 - mean_absolute_error: 10.3976 - val_loss: 136.2236 - val_mean_absolute_error: 10.1287\n",
            "Epoch 54/100\n",
            "10/10 [==============================] - 0s 7ms/step - loss: 150.3195 - mean_absolute_error: 9.5819 - val_loss: 60.5363 - val_mean_absolute_error: 5.8364\n",
            "Epoch 55/100\n",
            "10/10 [==============================] - 0s 7ms/step - loss: 131.1690 - mean_absolute_error: 8.9054 - val_loss: 170.6723 - val_mean_absolute_error: 11.5125\n",
            "Epoch 56/100\n",
            "10/10 [==============================] - 0s 8ms/step - loss: 102.9964 - mean_absolute_error: 7.6014 - val_loss: 57.9919 - val_mean_absolute_error: 5.7830\n",
            "Epoch 57/100\n",
            "10/10 [==============================] - 0s 8ms/step - loss: 80.8818 - mean_absolute_error: 6.4889 - val_loss: 66.1857 - val_mean_absolute_error: 6.2802\n",
            "Epoch 58/100\n",
            "10/10 [==============================] - 0s 7ms/step - loss: 69.8736 - mean_absolute_error: 6.0878 - val_loss: 82.5382 - val_mean_absolute_error: 7.2832\n",
            "Epoch 59/100\n",
            "10/10 [==============================] - 0s 7ms/step - loss: 66.2056 - mean_absolute_error: 6.0916 - val_loss: 51.2425 - val_mean_absolute_error: 5.5615\n",
            "Epoch 60/100\n",
            "10/10 [==============================] - 0s 7ms/step - loss: 57.4657 - mean_absolute_error: 5.6948 - val_loss: 64.0139 - val_mean_absolute_error: 6.1276\n",
            "Epoch 61/100\n",
            "10/10 [==============================] - 0s 7ms/step - loss: 53.6403 - mean_absolute_error: 5.5325 - val_loss: 52.1556 - val_mean_absolute_error: 5.6223\n",
            "Epoch 62/100\n",
            "10/10 [==============================] - 0s 7ms/step - loss: 53.5955 - mean_absolute_error: 5.6494 - val_loss: 78.7164 - val_mean_absolute_error: 7.0172\n",
            "Epoch 63/100\n",
            "10/10 [==============================] - 0s 7ms/step - loss: 54.6034 - mean_absolute_error: 5.8019 - val_loss: 52.3136 - val_mean_absolute_error: 5.6352\n",
            "Epoch 64/100\n",
            "10/10 [==============================] - 0s 7ms/step - loss: 54.9449 - mean_absolute_error: 5.8395 - val_loss: 52.8631 - val_mean_absolute_error: 5.6878\n",
            "Epoch 65/100\n",
            "10/10 [==============================] - 0s 7ms/step - loss: 44.8537 - mean_absolute_error: 5.1252 - val_loss: 58.3222 - val_mean_absolute_error: 5.8352\n",
            "Epoch 66/100\n",
            "10/10 [==============================] - 0s 8ms/step - loss: 43.8890 - mean_absolute_error: 5.1630 - val_loss: 58.0284 - val_mean_absolute_error: 5.8138\n",
            "Epoch 67/100\n",
            "10/10 [==============================] - 0s 8ms/step - loss: 43.6856 - mean_absolute_error: 5.1399 - val_loss: 52.2914 - val_mean_absolute_error: 5.6596\n",
            "Epoch 68/100\n",
            "10/10 [==============================] - 0s 7ms/step - loss: 47.4834 - mean_absolute_error: 5.4675 - val_loss: 59.8935 - val_mean_absolute_error: 6.1979\n",
            "Epoch 69/100\n",
            "10/10 [==============================] - 0s 7ms/step - loss: 42.7923 - mean_absolute_error: 5.1213 - val_loss: 67.9996 - val_mean_absolute_error: 6.7498\n",
            "Epoch 70/100\n",
            "10/10 [==============================] - 0s 7ms/step - loss: 41.9292 - mean_absolute_error: 5.1487 - val_loss: 51.8508 - val_mean_absolute_error: 5.5291\n",
            "Epoch 71/100\n",
            "10/10 [==============================] - 0s 6ms/step - loss: 40.3928 - mean_absolute_error: 4.9835 - val_loss: 50.5066 - val_mean_absolute_error: 5.5311\n",
            "Epoch 72/100\n",
            "10/10 [==============================] - 0s 6ms/step - loss: 40.9238 - mean_absolute_error: 4.9327 - val_loss: 49.2770 - val_mean_absolute_error: 5.4142\n",
            "Epoch 73/100\n",
            "10/10 [==============================] - 0s 6ms/step - loss: 35.2071 - mean_absolute_error: 4.6018 - val_loss: 53.5906 - val_mean_absolute_error: 5.7617\n",
            "Epoch 74/100\n",
            "10/10 [==============================] - 0s 7ms/step - loss: 38.2574 - mean_absolute_error: 4.9137 - val_loss: 69.7856 - val_mean_absolute_error: 6.4524\n",
            "Epoch 75/100\n",
            "10/10 [==============================] - 0s 6ms/step - loss: 38.3097 - mean_absolute_error: 4.9476 - val_loss: 67.0134 - val_mean_absolute_error: 6.7111\n",
            "Epoch 76/100\n",
            "10/10 [==============================] - 0s 7ms/step - loss: 37.4314 - mean_absolute_error: 4.8020 - val_loss: 55.8659 - val_mean_absolute_error: 5.9626\n",
            "Epoch 77/100\n",
            "10/10 [==============================] - 0s 7ms/step - loss: 35.5429 - mean_absolute_error: 4.6862 - val_loss: 55.3595 - val_mean_absolute_error: 5.9235\n",
            "Epoch 78/100\n",
            "10/10 [==============================] - 0s 7ms/step - loss: 32.7792 - mean_absolute_error: 4.5137 - val_loss: 48.9326 - val_mean_absolute_error: 5.4281\n",
            "Epoch 79/100\n",
            "10/10 [==============================] - 0s 8ms/step - loss: 34.3925 - mean_absolute_error: 4.6321 - val_loss: 51.7461 - val_mean_absolute_error: 5.6656\n",
            "Epoch 80/100\n",
            "10/10 [==============================] - 0s 7ms/step - loss: 36.1108 - mean_absolute_error: 4.7445 - val_loss: 53.5472 - val_mean_absolute_error: 5.6001\n",
            "Epoch 81/100\n",
            "10/10 [==============================] - 0s 6ms/step - loss: 37.9404 - mean_absolute_error: 4.8223 - val_loss: 48.1945 - val_mean_absolute_error: 5.3435\n",
            "Epoch 82/100\n",
            "10/10 [==============================] - 0s 7ms/step - loss: 38.4863 - mean_absolute_error: 5.0302 - val_loss: 56.8487 - val_mean_absolute_error: 6.0536\n",
            "Epoch 83/100\n",
            "10/10 [==============================] - 0s 7ms/step - loss: 50.4430 - mean_absolute_error: 5.9235 - val_loss: 61.4254 - val_mean_absolute_error: 5.9843\n",
            "Epoch 84/100\n",
            "10/10 [==============================] - 0s 7ms/step - loss: 36.9053 - mean_absolute_error: 4.7506 - val_loss: 47.5769 - val_mean_absolute_error: 5.3380\n",
            "Epoch 85/100\n",
            "10/10 [==============================] - 0s 7ms/step - loss: 30.7397 - mean_absolute_error: 4.3821 - val_loss: 47.9921 - val_mean_absolute_error: 5.3657\n",
            "Epoch 86/100\n",
            "10/10 [==============================] - 0s 7ms/step - loss: 31.4344 - mean_absolute_error: 4.4139 - val_loss: 48.5275 - val_mean_absolute_error: 5.3994\n",
            "Epoch 87/100\n",
            "10/10 [==============================] - 0s 7ms/step - loss: 29.5371 - mean_absolute_error: 4.3364 - val_loss: 47.7593 - val_mean_absolute_error: 5.3191\n",
            "Epoch 88/100\n",
            "10/10 [==============================] - 0s 7ms/step - loss: 32.3218 - mean_absolute_error: 4.5392 - val_loss: 55.7741 - val_mean_absolute_error: 5.7040\n",
            "Epoch 89/100\n",
            "10/10 [==============================] - 0s 7ms/step - loss: 37.5227 - mean_absolute_error: 4.8896 - val_loss: 68.8519 - val_mean_absolute_error: 6.8353\n",
            "Epoch 90/100\n",
            "10/10 [==============================] - 0s 7ms/step - loss: 38.5663 - mean_absolute_error: 5.0125 - val_loss: 59.4148 - val_mean_absolute_error: 5.8755\n",
            "Epoch 91/100\n",
            "10/10 [==============================] - 0s 7ms/step - loss: 45.2335 - mean_absolute_error: 5.4835 - val_loss: 48.6436 - val_mean_absolute_error: 5.4472\n",
            "Epoch 92/100\n",
            "10/10 [==============================] - 0s 8ms/step - loss: 37.5421 - mean_absolute_error: 4.9573 - val_loss: 48.7837 - val_mean_absolute_error: 5.3573\n",
            "Epoch 93/100\n",
            "10/10 [==============================] - 0s 7ms/step - loss: 34.1259 - mean_absolute_error: 4.6984 - val_loss: 50.7410 - val_mean_absolute_error: 5.4596\n",
            "Epoch 94/100\n",
            "10/10 [==============================] - 0s 7ms/step - loss: 37.1009 - mean_absolute_error: 4.8842 - val_loss: 58.1284 - val_mean_absolute_error: 6.1547\n",
            "Epoch 95/100\n",
            "10/10 [==============================] - 0s 7ms/step - loss: 34.0545 - mean_absolute_error: 4.6900 - val_loss: 54.0588 - val_mean_absolute_error: 5.6159\n",
            "Epoch 96/100\n",
            "10/10 [==============================] - 0s 7ms/step - loss: 37.2860 - mean_absolute_error: 4.7997 - val_loss: 46.9619 - val_mean_absolute_error: 5.3094\n",
            "Epoch 97/100\n",
            "10/10 [==============================] - 0s 8ms/step - loss: 38.3365 - mean_absolute_error: 5.1360 - val_loss: 47.2370 - val_mean_absolute_error: 5.3294\n",
            "Epoch 98/100\n",
            "10/10 [==============================] - 0s 8ms/step - loss: 37.1545 - mean_absolute_error: 4.8757 - val_loss: 48.8786 - val_mean_absolute_error: 5.3582\n",
            "Epoch 99/100\n",
            "10/10 [==============================] - 0s 8ms/step - loss: 30.1139 - mean_absolute_error: 4.3961 - val_loss: 46.9508 - val_mean_absolute_error: 5.3043\n",
            "Epoch 100/100\n",
            "10/10 [==============================] - 0s 8ms/step - loss: 30.7122 - mean_absolute_error: 4.3204 - val_loss: 46.4051 - val_mean_absolute_error: 5.2270\n"
          ]
        },
        {
          "output_type": "execute_result",
          "data": {
            "text/plain": [
              "<keras.callbacks.History at 0x7f7488f93890>"
            ]
          },
          "metadata": {},
          "execution_count": 12
        }
      ]
    },
    {
      "cell_type": "code",
      "source": [
        "train_predictions = model.predict(X_train).flatten()\n",
        "\n",
        "plt.plot(dates_train, train_predictions)\n",
        "plt.plot(dates_train, y_train)\n",
        "plt.legend(['Training Predictions', 'Training Observations'])"
      ],
      "metadata": {
        "colab": {
          "base_uri": "https://localhost:8080/",
          "height": 282
        },
        "id": "Yzeklpx0AnXc",
        "outputId": "5d995794-d569-49aa-950d-4beac74dc0e2"
      },
      "execution_count": 13,
      "outputs": [
        {
          "output_type": "execute_result",
          "data": {
            "text/plain": [
              "<matplotlib.legend.Legend at 0x7f7488e14850>"
            ]
          },
          "metadata": {},
          "execution_count": 13
        },
        {
          "output_type": "display_data",
          "data": {
            "text/plain": [
              "<Figure size 432x288 with 1 Axes>"
            ],
            "image/png": "[encoded data removed]"
          },
          "metadata": {
            "needs_background": "light"
          }
        }
      ]
    },
    {
      "cell_type": "code",
      "source": [
        "val_predictions = model.predict(X_val).flatten()\n",
        "\n",
        "plt.plot(dates_val, val_predictions)\n",
        "plt.plot(dates_val, y_val)\n",
        "plt.legend(['Validation Predictions', 'Validation Observations'])"
      ],
      "metadata": {
        "colab": {
          "base_uri": "https://localhost:8080/",
          "height": 282
        },
        "id": "obumsSdEBoWU",
        "outputId": "d8607970-afee-49a0-c0e6-fc21559053ff"
      },
      "execution_count": 14,
      "outputs": [
        {
          "output_type": "execute_result",
          "data": {
            "text/plain": [
              "<matplotlib.legend.Legend at 0x7f7488dbe990>"
            ]
          },
          "metadata": {},
          "execution_count": 14
        },
        {
          "output_type": "display_data",
          "data": {
            "text/plain": [
              "<Figure size 432x288 with 1 Axes>"
            ],
            "image/png": "[encoded data removed]"
          },
          "metadata": {
            "needs_background": "light"
          }
        }
      ]
    },
    {
      "cell_type": "code",
      "source": [
        "test_predictions = model.predict(X_test).flatten()\n",
        "\n",
        "plt.plot(dates_test, test_predictions)\n",
        "plt.plot(dates_test, y_test)\n",
        "plt.legend(['Testing Predictions', 'Testing Observations'])"
      ],
      "metadata": {
        "colab": {
          "base_uri": "https://localhost:8080/",
          "height": 282
        },
        "id": "f_RZHiJrCSsT",
        "outputId": "f06e5a7b-6aff-488d-daa1-5bfda92a0439"
      },
      "execution_count": 15,
      "outputs": [
        {
          "output_type": "execute_result",
          "data": {
            "text/plain": [
              "<matplotlib.legend.Legend at 0x7f7488cd1690>"
            ]
          },
          "metadata": {},
          "execution_count": 15
        },
        {
          "output_type": "display_data",
          "data": {
            "text/plain": [
              "<Figure size 432x288 with 1 Axes>"
            ],
            "image/png": "[encoded data removed]"
          },
          "metadata": {
            "needs_background": "light"
          }
        }
      ]
    },
    {
      "cell_type": "code",
      "source": [
        "plt.plot(dates_train, train_predictions)\n",
        "plt.plot(dates_train, y_train)\n",
        "plt.plot(dates_val, val_predictions)\n",
        "plt.plot(dates_val, y_val)\n",
        "plt.plot(dates_test, test_predictions)\n",
        "plt.plot(dates_test, y_test)\n",
        "plt.legend(['Training Predictions',\n",
        "            'Training Observations',\n",
        "            'Validation Predictions',\n",
        "            'Validation Observations',\n",
        "            'Testing Predictions',\n",
        "            'Testing Observations'])"
      ],
      "metadata": {
        "colab": {
          "base_uri": "https://localhost:8080/",
          "height": 282
        },
        "id": "k4NOiwm7CvO0",
        "outputId": "e1498372-950d-4eaf-95e2-6fd54f701526"
      },
      "execution_count": 16,
      "outputs": [
        {
          "output_type": "execute_result",
          "data": {
            "text/plain": [
              "<matplotlib.legend.Legend at 0x7f7488cbbb90>"
            ]
          },
          "metadata": {},
          "execution_count": 16
        },
        {
          "output_type": "display_data",
          "data": {
            "text/plain": [
              "<Figure size 432x288 with 1 Axes>"
            ],
            "image/png": "[encoded data removed]"
          },
          "metadata": {
            "needs_background": "light"
          }
        }
      ]
    },
    {
      "cell_type": "code",
      "source": [
        "from copy import deepcopy\n",
        "\n",
        "recursive_predictions = []\n",
        "recursive_dates = np.concatenate([dates_val, dates_test])\n",
        "\n",
        "for target_date in recursive_dates:\n",
        "  last_window = deepcopy(X_train[-1])\n",
        "  next_prediction = model.predict(np.array([last_window])).flatten()\n",
        "  recursive_predictions.append(next_prediction)\n",
        "  last_window[-1] = next_prediction"
      ],
      "metadata": {
        "id": "UyCLJRKBDg7Z"
      },
      "execution_count": 17,
      "outputs": []
    },
    {
      "cell_type": "code",
      "source": [
        "plt.plot(dates_train, train_predictions)\n",
        "plt.plot(dates_train, y_train)\n",
        "plt.plot(dates_val, val_predictions)\n",
        "plt.plot(dates_val, y_val)\n",
        "plt.plot(dates_test, test_predictions)\n",
        "plt.plot(dates_test, y_test)\n",
        "plt.plot(recursive_dates, recursive_predictions)\n",
        "plt.legend(['Training Predictions',\n",
        "            'Training Observations',\n",
        "            'Validation Predictions',\n",
        "            'Validation Observations',\n",
        "            'Testing Predictions',\n",
        "            'Testing Observations',\n",
        "            'Recursive Predictions'])"
      ],
      "metadata": {
        "colab": {
          "base_uri": "https://localhost:8080/",
          "height": 282
        },
        "id": "yMw8v__LGR9h",
        "outputId": "77260b5f-663c-47e3-e0a6-60c337eeb65b"
      },
      "execution_count": 18,
      "outputs": [
        {
          "output_type": "execute_result",
          "data": {
            "text/plain": [
              "<matplotlib.legend.Legend at 0x7f7488bf9650>"
            ]
          },
          "metadata": {},
          "execution_count": 18
        },
        {
          "output_type": "display_data",
          "data": {
            "text/plain": [
              "<Figure size 432x288 with 1 Axes>"
            ],
            "image/png": "[encoded data removed]"
          },
          "metadata": {
            "needs_background": "light"
          }
        }
      ]
    },
    {
      "cell_type": "code",
      "source": [],
      "metadata": {
        "id": "74aZT4VhGu5z"
      },
      "execution_count": 18,
      "outputs": []
    }
  ]
}